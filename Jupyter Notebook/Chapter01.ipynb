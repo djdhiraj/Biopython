{
 "cells": [
  {
   "cell_type": "code",
   "execution_count": 6,
   "metadata": {},
   "outputs": [
    {
     "name": "stdout",
     "output_type": "stream",
     "text": [
      "AGTCTGAGTGCTGATGCTGA\n",
      "AGUCUGAGUGCUGAUGCUGA\n",
      "AGTCTGAGTGCTGATGCTGA\n",
      "AGTCTGAGTGCTGATGCTGA\n",
      "TCAGACTCACGACTACGACT\n",
      "TCAGCATCAGCACTCAGACT\n"
     ]
    }
   ],
   "source": [
    "import os\n",
    "import Bio\n",
    "from Bio.Seq import Seq\n",
    "from Bio.Alphabet import generic_dna\n",
    "my_sequence=Seq('AGTCTGAGTGCTGATGCTGA',generic_dna)\n",
    "print(my_sequence)\n",
    "my_rna=my_sequence.transcribe()\n",
    "print(my_rna)\n",
    "print(my_rna.back_transcribe())\n",
    "print(my_rna.back_transcribe())\n",
    "print(my_rna.back_transcribe().complement())\n",
    "print(my_rna.back_transcribe().reverse_complement())\n"
   ]
  },
  {
   "cell_type": "code",
   "execution_count": null,
   "metadata": {},
   "outputs": [],
   "source": []
  }
 ],
 "metadata": {
  "kernelspec": {
   "display_name": "Python 3",
   "language": "python",
   "name": "python3"
  },
  "language_info": {
   "codemirror_mode": {
    "name": "ipython",
    "version": 3
   },
   "file_extension": ".py",
   "mimetype": "text/x-python",
   "name": "python",
   "nbconvert_exporter": "python",
   "pygments_lexer": "ipython3",
   "version": "3.7.0"
  }
 },
 "nbformat": 4,
 "nbformat_minor": 2
}
