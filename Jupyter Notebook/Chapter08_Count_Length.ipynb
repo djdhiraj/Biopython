{
 "cells": [
  {
   "cell_type": "code",
   "execution_count": 6,
   "metadata": {},
   "outputs": [
    {
     "name": "stdout",
     "output_type": "stream",
     "text": [
      "1 records with total sequence length 10723\n"
     ]
    }
   ],
   "source": [
    "from Bio.SeqIO.FastaIO import SimpleFastaParser\n",
    "count = 0\n",
    "total_len = 0\n",
    "with open(\"NC_001474.fasta\") as in_handle:\n",
    "    for title, seq in SimpleFastaParser(in_handle):\n",
    "        count += 1\n",
    "        total_len += len(seq)\n",
    "print(\"%i records with total sequence length %i\" % (count, total_len))"
   ]
  },
  {
   "cell_type": "code",
   "execution_count": 1,
   "metadata": {},
   "outputs": [],
   "source": [
    "from Bio.SeqIO.QualityIO import FastqGeneralIterator\n",
    "count = 0\n",
    "total_len = 0\n",
    "with open(\"CTRL_1_R1.fastq\") as in_handle:\n",
    " for title, seq, qual in FastqGeneralIterator(in_handle):\n",
    "     count += 1\n",
    "     total_len += len(seq)"
   ]
  },
  {
   "cell_type": "code",
   "execution_count": 4,
   "metadata": {},
   "outputs": [
    {
     "name": "stdout",
     "output_type": "stream",
     "text": [
      "2500 records with total sequence length 250000\n"
     ]
    }
   ],
   "source": [
    "print(\"%i records with total sequence length %i\" % (count, total_len))"
   ]
  },
  {
   "cell_type": "code",
   "execution_count": null,
   "metadata": {},
   "outputs": [],
   "source": []
  }
 ],
 "metadata": {
  "kernelspec": {
   "display_name": "Python 3",
   "language": "python",
   "name": "python3"
  },
  "language_info": {
   "codemirror_mode": {
    "name": "ipython",
    "version": 3
   },
   "file_extension": ".py",
   "mimetype": "text/x-python",
   "name": "python",
   "nbconvert_exporter": "python",
   "pygments_lexer": "ipython3",
   "version": "3.7.0"
  }
 },
 "nbformat": 4,
 "nbformat_minor": 2
}
