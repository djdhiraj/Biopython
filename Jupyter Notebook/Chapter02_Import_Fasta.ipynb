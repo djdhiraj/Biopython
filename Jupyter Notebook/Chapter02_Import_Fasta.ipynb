{
 "cells": [
  {
   "cell_type": "code",
   "execution_count": 1,
   "metadata": {},
   "outputs": [
    {
     "name": "stdout",
     "output_type": "stream",
     "text": [
      "NC_001474.2\n",
      "Seq('AGTTGTTAGTCTACGTGGACCGACAAAGACAGATTCTTTGAGGGAGCTAAGCTC...TCT', SingleLetterAlphabet())\n",
      "10723\n"
     ]
    }
   ],
   "source": [
    "from Bio import SeqIO\n",
    "for seq_record in SeqIO.parse(open('NC_001474.fasta'),'fasta'):\n",
    "    print(seq_record.id)\n",
    "    print(repr(seq_record.seq))\n",
    "    print(len(seq_record))\n"
   ]
  },
  {
   "cell_type": "code",
   "execution_count": 2,
   "metadata": {},
   "outputs": [
    {
     "name": "stdout",
     "output_type": "stream",
     "text": [
      "NC_001474.2\n",
      "NC_001474.2 Dengue virus 2, complete genome\n"
     ]
    }
   ],
   "source": [
    "from Bio import SeqIO\n",
    "record_iterator = SeqIO.parse(\"NC_001474.fasta\", \"fasta\")\n",
    "first_record = next(record_iterator)\n",
    "print(first_record.id)\n",
    "print(first_record.description)\n",
    "#second_record = next(record_iterator)\n",
    "#print(second_record.id)\n",
    "#print(second_record.description)"
   ]
  },
  {
   "cell_type": "code",
   "execution_count": 3,
   "metadata": {},
   "outputs": [
    {
     "name": "stdout",
     "output_type": "stream",
     "text": [
      "Found 1 records\n",
      "The last record\n",
      "NC_001474.2\n",
      "Seq('AGTTGTTAGTCTACGTGGACCGACAAAGACAGATTCTTTGAGGGAGCTAAGCTC...TCT', SingleLetterAlphabet())\n",
      "10723\n",
      "The first record\n",
      "NC_001474.2\n",
      "Seq('AGTTGTTAGTCTACGTGGACCGACAAAGACAGATTCTTTGAGGGAGCTAAGCTC...TCT', SingleLetterAlphabet())\n",
      "10723\n"
     ]
    }
   ],
   "source": [
    "from Bio import SeqIO\n",
    "records = list(SeqIO.parse(\"NC_001474.fasta\", \"fasta\"))\n",
    "print(\"Found %i records\" % len(records))\n",
    "print(\"The last record\")\n",
    "last_record = records[-1] #using Python's list tricks\n",
    "print(last_record.id)\n",
    "print(repr(last_record.seq))\n",
    "print(len(last_record))\n",
    "print(\"The first record\")\n",
    "first_record = records[0] #remember, Python counts from zero\n",
    "print(first_record.id)\n",
    "print(repr(first_record.seq))\n",
    "print(len(first_record))"
   ]
  },
  {
   "cell_type": "code",
   "execution_count": 4,
   "metadata": {},
   "outputs": [
    {
     "name": "stdout",
     "output_type": "stream",
     "text": [
      "ID: NC_001474.2\n",
      "Name: NC_001474.2\n",
      "Description: NC_001474.2 Dengue virus 2, complete genome\n",
      "Number of features: 0\n",
      "Seq('AGTTGTTAGTCTACGTGGACCGACAAAGACAGATTCTTTGAGGGAGCTAAGCTC...TCT', SingleLetterAlphabet())\n",
      "{}\n",
      "dict_keys([])\n",
      "dict_values([])\n"
     ]
    }
   ],
   "source": [
    "from Bio import SeqIO\n",
    "record_iterator = SeqIO.parse(\"NC_001474.fasta\", \"fasta\")\n",
    "first_record = next(record_iterator)\n",
    "print(first_record)\n",
    "print(first_record.annotations)\n",
    "print(first_record.annotations.keys())\n",
    "print(first_record.annotations.values())\n",
    "#print(first_record.annotations[\"source\"])\n",
    "#print(first_record.annotations[\"organism\"])"
   ]
  },
  {
   "cell_type": "code",
   "execution_count": 5,
   "metadata": {},
   "outputs": [
    {
     "name": "stdout",
     "output_type": "stream",
     "text": [
      "[]\n"
     ]
    }
   ],
   "source": [
    "from Bio import SeqIO\n",
    "all_species = []\n",
    "for seq_record in SeqIO.parse(\"NC_001474.fasta\", \"fasta\"):\n",
    "    #all_species.append(seq_record.annotations[\"organism\"])\n",
    "    print(all_species)"
   ]
  },
  {
   "cell_type": "code",
   "execution_count": 6,
   "metadata": {},
   "outputs": [
    {
     "name": "stdout",
     "output_type": "stream",
     "text": [
      "['Dengue']\n"
     ]
    }
   ],
   "source": [
    "from Bio import SeqIO\n",
    "all_species = []\n",
    "for seq_record in SeqIO.parse(\"NC_001474.fasta\", \"fasta\"):\n",
    "    all_species.append(seq_record.description.split()[1])\n",
    "    print(all_species)"
   ]
  },
  {
   "cell_type": "code",
   "execution_count": null,
   "metadata": {},
   "outputs": [],
   "source": []
  }
 ],
 "metadata": {
  "kernelspec": {
   "display_name": "Python 3",
   "language": "python",
   "name": "python3"
  },
  "language_info": {
   "codemirror_mode": {
    "name": "ipython",
    "version": 3
   },
   "file_extension": ".py",
   "mimetype": "text/x-python",
   "name": "python",
   "nbconvert_exporter": "python",
   "pygments_lexer": "ipython3",
   "version": "3.7.0"
  }
 },
 "nbformat": 4,
 "nbformat_minor": 2
}
